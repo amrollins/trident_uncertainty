{
 "cells": [
  {
   "cell_type": "code",
   "execution_count": 2,
   "metadata": {},
   "outputs": [],
   "source": [
    "import numpy as np\n",
    "import pandas as pd"
   ]
  },
  {
   "cell_type": "code",
   "execution_count": 3,
   "metadata": {},
   "outputs": [
    {
     "data": {
      "text/html": [
       "<div>\n",
       "<style scoped>\n",
       "    .dataframe tbody tr th:only-of-type {\n",
       "        vertical-align: middle;\n",
       "    }\n",
       "\n",
       "    .dataframe tbody tr th {\n",
       "        vertical-align: top;\n",
       "    }\n",
       "\n",
       "    .dataframe thead th {\n",
       "        text-align: right;\n",
       "    }\n",
       "</style>\n",
       "<table border=\"1\" class=\"dataframe\">\n",
       "  <thead>\n",
       "    <tr style=\"text-align: right;\">\n",
       "      <th></th>\n",
       "      <th>Unnamed: 0</th>\n",
       "      <th>name</th>\n",
       "      <th>wave</th>\n",
       "      <th>redshift</th>\n",
       "      <th>col_dens</th>\n",
       "      <th>delta_v</th>\n",
       "      <th>vel_dispersion</th>\n",
       "      <th>interval_start</th>\n",
       "      <th>interval_end</th>\n",
       "      <th>density</th>\n",
       "      <th>temperature</th>\n",
       "      <th>metallicity</th>\n",
       "      <th>lightray_index</th>\n",
       "    </tr>\n",
       "  </thead>\n",
       "  <tbody>\n",
       "    <tr>\n",
       "      <th>0</th>\n",
       "      <td>0</td>\n",
       "      <td>C IV</td>\n",
       "      <td>1548.187</td>\n",
       "      <td>2</td>\n",
       "      <td>14.187713</td>\n",
       "      <td>-128.345174</td>\n",
       "      <td>58.087965</td>\n",
       "      <td>47</td>\n",
       "      <td>95</td>\n",
       "      <td>1.556381e-25</td>\n",
       "      <td>10140.984318</td>\n",
       "      <td>0.138646</td>\n",
       "      <td>0</td>\n",
       "    </tr>\n",
       "    <tr>\n",
       "      <th>1</th>\n",
       "      <td>1</td>\n",
       "      <td>C IV</td>\n",
       "      <td>1548.187</td>\n",
       "      <td>2</td>\n",
       "      <td>13.375357</td>\n",
       "      <td>-82.951377</td>\n",
       "      <td>NaN</td>\n",
       "      <td>118</td>\n",
       "      <td>119</td>\n",
       "      <td>3.299297e-26</td>\n",
       "      <td>16765.383096</td>\n",
       "      <td>0.233818</td>\n",
       "      <td>0</td>\n",
       "    </tr>\n",
       "    <tr>\n",
       "      <th>2</th>\n",
       "      <td>2</td>\n",
       "      <td>C IV</td>\n",
       "      <td>1548.187</td>\n",
       "      <td>2</td>\n",
       "      <td>13.259416</td>\n",
       "      <td>-72.220699</td>\n",
       "      <td>5.356098</td>\n",
       "      <td>121</td>\n",
       "      <td>123</td>\n",
       "      <td>2.653027e-26</td>\n",
       "      <td>88839.550965</td>\n",
       "      <td>0.265431</td>\n",
       "      <td>0</td>\n",
       "    </tr>\n",
       "    <tr>\n",
       "      <th>3</th>\n",
       "      <td>3</td>\n",
       "      <td>C IV</td>\n",
       "      <td>1548.187</td>\n",
       "      <td>2</td>\n",
       "      <td>14.021113</td>\n",
       "      <td>-69.265520</td>\n",
       "      <td>4.190057</td>\n",
       "      <td>124</td>\n",
       "      <td>127</td>\n",
       "      <td>2.798542e-26</td>\n",
       "      <td>72039.735420</td>\n",
       "      <td>0.249469</td>\n",
       "      <td>0</td>\n",
       "    </tr>\n",
       "    <tr>\n",
       "      <th>4</th>\n",
       "      <td>4</td>\n",
       "      <td>C IV</td>\n",
       "      <td>1548.187</td>\n",
       "      <td>2</td>\n",
       "      <td>14.434068</td>\n",
       "      <td>-17.676918</td>\n",
       "      <td>82.247335</td>\n",
       "      <td>134</td>\n",
       "      <td>142</td>\n",
       "      <td>1.678091e-25</td>\n",
       "      <td>13485.813781</td>\n",
       "      <td>0.280883</td>\n",
       "      <td>0</td>\n",
       "    </tr>\n",
       "  </tbody>\n",
       "</table>\n",
       "</div>"
      ],
      "text/plain": [
       "   Unnamed: 0  name      wave  redshift   col_dens     delta_v  \\\n",
       "0           0  C IV  1548.187         2  14.187713 -128.345174   \n",
       "1           1  C IV  1548.187         2  13.375357  -82.951377   \n",
       "2           2  C IV  1548.187         2  13.259416  -72.220699   \n",
       "3           3  C IV  1548.187         2  14.021113  -69.265520   \n",
       "4           4  C IV  1548.187         2  14.434068  -17.676918   \n",
       "\n",
       "   vel_dispersion  interval_start  interval_end       density   temperature  \\\n",
       "0       58.087965              47            95  1.556381e-25  10140.984318   \n",
       "1             NaN             118           119  3.299297e-26  16765.383096   \n",
       "2        5.356098             121           123  2.653027e-26  88839.550965   \n",
       "3        4.190057             124           127  2.798542e-26  72039.735420   \n",
       "4       82.247335             134           142  1.678091e-25  13485.813781   \n",
       "\n",
       "   metallicity  lightray_index  \n",
       "0     0.138646               0  \n",
       "1     0.233818               0  \n",
       "2     0.265431               0  \n",
       "3     0.249469               0  \n",
       "4     0.280883               0  "
      ]
     },
     "execution_count": 3,
     "metadata": {},
     "output_type": "execute_result"
    }
   ],
   "source": [
    "df1 = pd.read_csv(\"./data_AbundanceRow14_C_IV.txt\", sep = \" \")\n",
    "df2 = pd.read_csv(\"./data_AbundanceRow16_C_IV.txt\", sep = \" \")\n",
    "df2.head()"
   ]
  },
  {
   "cell_type": "code",
   "execution_count": 4,
   "metadata": {},
   "outputs": [],
   "source": [
    "df1_work=df1[df1[\"lightray_index\"]==1] ##filter to only ray1\n",
    "df2_work=df2[df2[\"lightray_index\"]==1]\n",
    "\n",
    "df1_clumps = df1_work[[\"interval_start\",\"interval_end\"]] ##filter to only indexes\n",
    "df2_clumps = df2_work[[\"interval_start\",\"interval_end\"]]"
   ]
  },
  {
   "cell_type": "code",
   "execution_count": 7,
   "metadata": {},
   "outputs": [
    {
     "name": "stdout",
     "output_type": "stream",
     "text": [
      "    interval_start  interval_end\n",
      "14             164           174\n",
      "15             181           208\n",
      "16             208           251\n",
      "17             345           358\n",
      "18             390           425\n",
      "19             442           785\n",
      "20             795           873\n",
      "21             881           892\n",
      "22             892           901\n",
      "23             905           920\n",
      "24             934           937\n",
      "25             973           986\n",
      "26             988           999\n",
      "27            1000          1011\n",
      "28            1102          1136\n",
      "29            1149          1162\n",
      "30            1197          1206\n",
      "31            1242          1252\n",
      "32            1467          1475\n",
      "33            1550          1562\n",
      "    interval_start  interval_end\n",
      "15             164           174\n",
      "16             181           208\n",
      "17             208           251\n",
      "18             345           358\n",
      "19             390           425\n",
      "20             442           785\n",
      "21             795           873\n",
      "22             881           892\n",
      "23             892           901\n",
      "24             905           920\n",
      "25             934           937\n",
      "26             973           986\n",
      "27             988           999\n",
      "28            1000          1011\n",
      "29            1102          1136\n",
      "30            1149          1162\n",
      "31            1197          1206\n",
      "32            1242          1252\n",
      "33            1467          1475\n",
      "34            1550          1562\n"
     ]
    }
   ],
   "source": [
    "print(df1_clumps)\n",
    "print(df2_clumps)"
   ]
  },
  {
   "cell_type": "code",
   "execution_count": 8,
   "metadata": {},
   "outputs": [
    {
     "name": "stdout",
     "output_type": "stream",
     "text": [
      "{'0': 0, '1': 1, '2': 2, '3': 3, '4': 4, '5': 5, '6': 6, '7': 7, '8': 8, '9': 9, '10': 10, '11': 11, '12': 12, '13': 13, '14': 14, '15': 15, '16': 16, '17': 17, '18': 18, '19': 19}\n",
      "{}\n",
      "{}\n",
      "{}\n"
     ]
    }
   ],
   "source": [
    "df1_st = np.asarray(df1_clumps[\"interval_start\"])\n",
    "df2_st = np.asarray(df2_clumps[\"interval_start\"])\n",
    "df1_en = np.asarray(df1_clumps[\"interval_end\"])\n",
    "df2_en = np.asarray(df2_clumps[\"interval_end\"])\n",
    "\n",
    "match = {} ##create dictionaries to store indexes of clumps that correspond to one another\n",
    "slight_off = {}\n",
    "merge = {}\n",
    "split = {}\n",
    "\n",
    "err = 3 ##set allowable amount of error\n",
    "for i in range(len(df1_clumps)):\n",
    "    n = i\n",
    "    for j in range(len(df2_clumps)):\n",
    "        split_inst = []\n",
    "        merge_inst =[]\n",
    "        if df1_en[n] == df2_en[j] and df1_st[n] == df2_st[j]:\n",
    "            match[str(n)] = j\n",
    "            n += 1\n",
    "\n",
    "        elif ((df2_en[j] - err) <= df1_en[n] <= (df2_en[j] + err)) or ((df2_st[j] - err) <= df1_st[n] <= (df2_st[j] + err)):\n",
    "            slight_off[str(n)] = j\n",
    "            n += 1\n",
    "\n",
    "      ##elif ((df1_st[n] == df2_st[j]) and (df1_en[n] != df2_en[j]) or (df1_en[n] == df2_en[j] and df1_st[n] != df2_st[j]) or\n",
    "        elif (df2_st[j] >= df1_st[n]) and (df2_en[j] <= df1_en[n]):\n",
    "            split_inst.append(j)\n",
    "            if df1_en[n] == df2_en[j]:\n",
    "                split[str(n)]= split_inst\n",
    "                split_inst =[]\n",
    "                n+=1\n",
    "            else:\n",
    "                continue\n",
    "        elif df1_st[n] >= df2_st[i] and df1_en[n] <= df2_en[i]:\n",
    "            merge_inst.append(j)\n",
    "            if df1_en[n] == df2_en[j]:\n",
    "                merge[str(n)]= merge_inst\n",
    "                merge_inst =[]\n",
    "                n+=1\n",
    "            else:\n",
    "                continue        \n",
    "print(match)\n",
    "print(slight_off)\n",
    "print(merge)\n",
    "print(split)"
   ]
  },
  {
   "cell_type": "code",
   "execution_count": 79,
   "metadata": {},
   "outputs": [
    {
     "data": {
      "text/plain": [
       "{'2': 2, '4': 5, '5': 37}"
      ]
     },
     "execution_count": 79,
     "metadata": {},
     "output_type": "execute_result"
    }
   ],
   "source": [
    "slight_off"
   ]
  },
  {
   "cell_type": "code",
   "execution_count": 67,
   "metadata": {},
   "outputs": [
    {
     "name": "stdout",
     "output_type": "stream",
     "text": [
      "[ 164  181  208  345  390  442  795  881  892  905  934  973  988 1000\n",
      " 1102 1149 1197 1242 1467 1550]\n"
     ]
    }
   ],
   "source": [
    "print(df2_st)"
   ]
  },
  {
   "cell_type": "code",
   "execution_count": null,
   "metadata": {},
   "outputs": [],
   "source": []
  }
 ],
 "metadata": {
  "kernelspec": {
   "display_name": "Python 3",
   "language": "python",
   "name": "python3"
  },
  "language_info": {
   "codemirror_mode": {
    "name": "ipython",
    "version": 3
   },
   "file_extension": ".py",
   "mimetype": "text/x-python",
   "name": "python",
   "nbconvert_exporter": "python",
   "pygments_lexer": "ipython3",
   "version": "3.6.4"
  }
 },
 "nbformat": 4,
 "nbformat_minor": 2
}
