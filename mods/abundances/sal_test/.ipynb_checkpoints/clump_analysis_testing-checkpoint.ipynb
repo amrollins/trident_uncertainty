{
 "cells": [
  {
   "cell_type": "code",
   "execution_count": 13,
   "metadata": {},
   "outputs": [],
   "source": [
    "import numpy as np\n",
    "import pandas as pd\n",
    "import matplotlib.pyplot as plt\n",
    "import h5py"
   ]
  },
  {
   "cell_type": "code",
   "execution_count": 14,
   "metadata": {},
   "outputs": [
    {
     "data": {
      "text/html": [
       "<div>\n",
       "<style scoped>\n",
       "    .dataframe tbody tr th:only-of-type {\n",
       "        vertical-align: middle;\n",
       "    }\n",
       "\n",
       "    .dataframe tbody tr th {\n",
       "        vertical-align: top;\n",
       "    }\n",
       "\n",
       "    .dataframe thead th {\n",
       "        text-align: right;\n",
       "    }\n",
       "</style>\n",
       "<table border=\"1\" class=\"dataframe\">\n",
       "  <thead>\n",
       "    <tr style=\"text-align: right;\">\n",
       "      <th></th>\n",
       "      <th>name</th>\n",
       "      <th>wave</th>\n",
       "      <th>redshift</th>\n",
       "      <th>col_dens</th>\n",
       "      <th>delta_v</th>\n",
       "      <th>vel_dispersion</th>\n",
       "      <th>interval_start</th>\n",
       "      <th>interval_end</th>\n",
       "      <th>density</th>\n",
       "      <th>temperature</th>\n",
       "      <th>metallicity</th>\n",
       "      <th>lightray_index</th>\n",
       "    </tr>\n",
       "  </thead>\n",
       "  <tbody>\n",
       "    <tr>\n",
       "      <th>0</th>\n",
       "      <td>C IV</td>\n",
       "      <td>1548.187</td>\n",
       "      <td>2</td>\n",
       "      <td>14.397224</td>\n",
       "      <td>-128.345174</td>\n",
       "      <td>58.087965</td>\n",
       "      <td>47</td>\n",
       "      <td>9.500000e+01</td>\n",
       "      <td>1.556381e-25</td>\n",
       "      <td>10140.984318</td>\n",
       "      <td>0.138646</td>\n",
       "      <td>0.0</td>\n",
       "    </tr>\n",
       "    <tr>\n",
       "      <th>1</th>\n",
       "      <td>C IV</td>\n",
       "      <td>1548.187</td>\n",
       "      <td>2</td>\n",
       "      <td>13.207390</td>\n",
       "      <td>-97.041868</td>\n",
       "      <td>13.712403</td>\n",
       "      <td>113</td>\n",
       "      <td>1.180000e+02</td>\n",
       "      <td>6.557103e-27</td>\n",
       "      <td>458144.110071</td>\n",
       "      <td>0.331127</td>\n",
       "      <td>0.0</td>\n",
       "    </tr>\n",
       "    <tr>\n",
       "      <th>2</th>\n",
       "      <td>C IV</td>\n",
       "      <td>1548.187</td>\n",
       "      <td>2</td>\n",
       "      <td>13.584868</td>\n",
       "      <td>-82.951377</td>\n",
       "      <td>118.000000</td>\n",
       "      <td>119</td>\n",
       "      <td>3.299297e-26</td>\n",
       "      <td>1.676538e+04</td>\n",
       "      <td>0.233818</td>\n",
       "      <td>0.000000</td>\n",
       "      <td>NaN</td>\n",
       "    </tr>\n",
       "    <tr>\n",
       "      <th>3</th>\n",
       "      <td>C IV</td>\n",
       "      <td>1548.187</td>\n",
       "      <td>2</td>\n",
       "      <td>13.468927</td>\n",
       "      <td>-72.220699</td>\n",
       "      <td>5.356098</td>\n",
       "      <td>121</td>\n",
       "      <td>1.230000e+02</td>\n",
       "      <td>2.653027e-26</td>\n",
       "      <td>88839.550965</td>\n",
       "      <td>0.265431</td>\n",
       "      <td>0.0</td>\n",
       "    </tr>\n",
       "    <tr>\n",
       "      <th>4</th>\n",
       "      <td>C IV</td>\n",
       "      <td>1548.187</td>\n",
       "      <td>2</td>\n",
       "      <td>14.230624</td>\n",
       "      <td>-69.265520</td>\n",
       "      <td>4.190057</td>\n",
       "      <td>124</td>\n",
       "      <td>1.270000e+02</td>\n",
       "      <td>2.798542e-26</td>\n",
       "      <td>72039.735420</td>\n",
       "      <td>0.249469</td>\n",
       "      <td>0.0</td>\n",
       "    </tr>\n",
       "  </tbody>\n",
       "</table>\n",
       "</div>"
      ],
      "text/plain": [
       "   name      wave  redshift   col_dens     delta_v  vel_dispersion  \\\n",
       "0  C IV  1548.187         2  14.397224 -128.345174       58.087965   \n",
       "1  C IV  1548.187         2  13.207390  -97.041868       13.712403   \n",
       "2  C IV  1548.187         2  13.584868  -82.951377      118.000000   \n",
       "3  C IV  1548.187         2  13.468927  -72.220699        5.356098   \n",
       "4  C IV  1548.187         2  14.230624  -69.265520        4.190057   \n",
       "\n",
       "   interval_start  interval_end       density    temperature  metallicity  \\\n",
       "0              47  9.500000e+01  1.556381e-25   10140.984318     0.138646   \n",
       "1             113  1.180000e+02  6.557103e-27  458144.110071     0.331127   \n",
       "2             119  3.299297e-26  1.676538e+04       0.233818     0.000000   \n",
       "3             121  1.230000e+02  2.653027e-26   88839.550965     0.265431   \n",
       "4             124  1.270000e+02  2.798542e-26   72039.735420     0.249469   \n",
       "\n",
       "   lightray_index  \n",
       "0             0.0  \n",
       "1             0.0  \n",
       "2             NaN  \n",
       "3             0.0  \n",
       "4             0.0  "
      ]
     },
     "execution_count": 14,
     "metadata": {},
     "output_type": "execute_result"
    }
   ],
   "source": [
    "df1 = pd.read_csv(\"./data/data_AbundanceRow08_C_IV.txt\", delim_whitespace=True)\n",
    "df2 = pd.read_csv(\"./data/data_AbundanceRow09_C_IV.txt\", delim_whitespace=True)\n",
    "df2.head()"
   ]
  },
  {
   "cell_type": "code",
   "execution_count": 15,
   "metadata": {},
   "outputs": [],
   "source": [
    "df1_work=df1[df1[\"lightray_index\"]==1] ##filter to only ray1\n",
    "df2_work=df2[df2[\"lightray_index\"]==1]\n",
    "\n",
    "df1_clumps = df1_work[[\"interval_start\",\"interval_end\"]].reset_index().drop(columns = \"index\") ##filter to only clump locations\n",
    "df2_clumps = df2_work[[\"interval_start\",\"interval_end\"]].reset_index().drop(columns = \"index\")"
   ]
  },
  {
   "cell_type": "code",
   "execution_count": 16,
   "metadata": {},
   "outputs": [
    {
     "name": "stdout",
     "output_type": "stream",
     "text": [
      "    interval_start  interval_end\n",
      "0              164         174.0\n",
      "1              181         208.0\n",
      "2              208         251.0\n",
      "3              345         358.0\n",
      "4              390         425.0\n",
      "5              442         785.0\n",
      "6              795         873.0\n",
      "7              881         892.0\n",
      "8              892         901.0\n",
      "9              905         920.0\n",
      "10             934         937.0\n",
      "11             973         986.0\n",
      "12             988         999.0\n",
      "13            1000        1011.0\n",
      "14            1102        1136.0\n",
      "15            1149        1162.0\n",
      "16            1197        1206.0\n",
      "17            1242        1252.0\n",
      "18            1467        1475.0\n",
      "19            1550        1562.0\n",
      "    interval_start  interval_end\n",
      "0              160         174.0\n",
      "1              178         251.0\n",
      "2              344         359.0\n",
      "3              390         425.0\n",
      "4              442         881.0\n",
      "5              881         929.0\n",
      "6              934         940.0\n",
      "7              971        1011.0\n",
      "8             1102        1138.0\n",
      "9             1148        1162.0\n",
      "10            1197        1210.0\n",
      "11            1242        1252.0\n",
      "12            1467        1475.0\n",
      "13            1548        1564.0\n",
      "14            1745        1763.0\n"
     ]
    }
   ],
   "source": [
    "print(df1_clumps)\n",
    "print(df2_clumps)"
   ]
  },
  {
   "cell_type": "code",
   "execution_count": 17,
   "metadata": {},
   "outputs": [
    {
     "data": {
      "text/plain": [
       "False"
      ]
     },
     "execution_count": 17,
     "metadata": {},
     "output_type": "execute_result"
    }
   ],
   "source": [
    "df1_clumps.equals(df2_clumps)"
   ]
  },
  {
   "cell_type": "code",
   "execution_count": 18,
   "metadata": {},
   "outputs": [
    {
     "data": {
      "image/png": "[encoded data removed]",
      "text/plain": [
       "<Figure size 432x288 with 1 Axes>"
      ]
     },
     "metadata": {
      "needs_background": "light"
     },
     "output_type": "display_data"
    }
   ],
   "source": [
    "plt.hlines(np.ones(df1_clumps.shape[0]), df1_clumps['interval_start'], df1_clumps['interval_end'],label = \"Row 9\")\n",
    "plt.hlines(np.ones(df2_clumps.shape[0])+1, df2_clumps['interval_start'], df2_clumps['interval_end'], color = \"red\", label = \"Row 10\")\n",
    "plt.title(\"Clump Positions for C IV\")\n",
    "plt.legend(loc = \"center right\")\n",
    "plt.savefig(\"./testplot.png\")"
   ]
  },
  {
   "cell_type": "code",
   "execution_count": 22,
   "metadata": {},
   "outputs": [
    {
     "data": {
      "text/plain": [
       "array([0., 0., 0., ..., 1., 1., 0.])"
      ]
     },
     "execution_count": 22,
     "metadata": {},
     "output_type": "execute_result"
    }
   ],
   "source": [
    "rowlist = [df1_clumps,df2_clumps]\n",
    "\n",
    "mx = -np.inf\n",
    "for ds in rowlist:\n",
    "    row_mx = max(ds[\"interval_end\"])\n",
    "    if row_mx > mx:\n",
    "        mx = row_mx\n",
    "        \n",
    "super_clumps = np.zeros(int(mx))\n",
    "\n",
    "clmaps = []\n",
    "for ds in rowlist:\n",
    "    ds_clump_loc = np.zeros(int(mx))\n",
    "    for i in range(ds.shape[0]):\n",
    "        ds_clump_loc[int(ds['interval_start'][i]):int(ds['interval_end'][i])] = 1\n",
    "        super_clumps[int(ds['interval_start'][i]):int(ds['interval_end'][i])] = 1\n",
    "    clmaps.append(ds_clump_loc)\n",
    "\n",
    "super_clumps = np.append(0,super_clumps)\n",
    "super_clumps = np.append(super_clumps,0)\n",
    "super_clumps"
   ]
  },
  {
   "cell_type": "code",
   "execution_count": 23,
   "metadata": {},
   "outputs": [],
   "source": [
    "# df1_st = np.asarray(df1_clumps[\"interval_start\"])\n",
    "# df2_st = np.asarray(df2_clumps[\"interval_start\"])\n",
    "# df1_en = np.asarray(df1_clumps[\"interval_end\"])\n",
    "# df2_en = np.asarray(df2_clumps[\"interval_end\"])\n",
    "\n",
    "\n",
    "match = {} ##create dictionaries to store indexes of clumps that correspond to one another\n",
    "shorter = {}\n",
    "merge = {}\n",
    "lonely = {}\n",
    "\n",
    "maybe_lonely = {}\n",
    "\n",
    "rownum = 0\n",
    "\n",
    "for row in clmaps: \n",
    "\n",
    "    row = np.append(0,row) # adding an extra element to prevent booleans from failing\n",
    "    row = np.append(row,0)\n",
    "    rownum += 1\n",
    "\n",
    "    row_st_cnt = 0\n",
    "    row_st_ind = []\n",
    "    \n",
    "    row_en_cnt = 0\n",
    "    row_en_ind = []\n",
    "\n",
    "    row_match = []\n",
    "    row_short = []\n",
    "    row_merge = []\n",
    "    \n",
    " \n",
    "    \n",
    "    for i in range(1,len(row)):\n",
    "        \n",
    "        if super_clumps[i-1]<super_clumps[i]:\n",
    "            sup_st = i-1\n",
    "            \n",
    "        if row[i-1]<row[i]:\n",
    "            row_st_cnt += 1\n",
    "            row_st_ind.append(i-1)\n",
    "        \n",
    "        elif row[i-1]>row[i]:\n",
    "            row_en_cnt += 1\n",
    "            row_en_ind.append(i-1)\n",
    "            \n",
    "        if super_clumps[i-1]>super_clumps[i]:\n",
    "            sup_en = i-1\n",
    "            \n",
    "            if (row_st_cnt == 1) & (row_en_cnt == 1):\n",
    "                if (row_st_ind[0] == sup_st) & (row_en_ind[0] == sup_en):\n",
    "                    row_match.append([row_st_ind[0],row_en_ind[0]])\n",
    "            \n",
    "                else:\n",
    "                    row_short.append([row_st_ind[0],row_en_ind[0]])\n",
    "            \n",
    "            elif (row_st_cnt == 0) & (row_en_cnt == 0):\n",
    "                \n",
    "                if str([sup_st,sup_en]) in maybe_lonely.keys():\n",
    "                    maybe_lonely[str([sup_st,sup_en])] += 1\n",
    "                                 \n",
    "                else:\n",
    "                    maybe_lonely[str([sup_st,sup_en])] = 1\n",
    "            \n",
    "            else:\n",
    "            \n",
    "                for j in range(len(row_st_ind)):\n",
    "                    row_merge.append([row_st_ind[j],row_en_ind[j]]) \n",
    "                                 \n",
    "            row_st_cnt = 0\n",
    "            row_st_ind = []\n",
    "            \n",
    "            row_en_cnt = 0\n",
    "            row_en_ind = []\n",
    "        \n",
    "        match[rownum] = row_match\n",
    "        shorter[rownum] = row_short\n",
    "        merge[rownum] = row_merge"
   ]
  },
  {
   "cell_type": "code",
   "execution_count": 24,
   "metadata": {},
   "outputs": [
    {
     "name": "stdout",
     "output_type": "stream",
     "text": [
      "{'[1745, 1763]': 1}\n",
      "{1: [[164, 174], [181, 251], [345, 358], [934, 937], [1102, 1136], [1149, 1162], [1197, 1206], [1550, 1562]], 2: []}\n",
      "{1: [[390, 425], [1242, 1252], [1467, 1475]], 2: [[160, 174], [178, 251], [344, 359], [390, 425], [442, 929], [934, 940], [971, 1011], [1102, 1138], [1148, 1162], [1197, 1210], [1242, 1252], [1467, 1475], [1548, 1564], [1745, 1763]]}\n",
      "{1: [[442, 785], [795, 873], [881, 901], [905, 920], [973, 986], [988, 999], [1000, 1011]], 2: []}\n"
     ]
    }
   ],
   "source": [
    "print(maybe_lonely)\n",
    "print(shorter)\n",
    "print(match)\n",
    "print(merge)"
   ]
  },
  {
   "cell_type": "code",
   "execution_count": 144,
   "metadata": {},
   "outputs": [],
   "source": [
    "false_merge = {}\n",
    "\n",
    "for i in range(rownum):\n",
    "    for cat in [shorter, match, merge]:\n",
    "        true_spans = []\n",
    "        \n",
    "        for n in range(len(rowlist[i])):\n",
    "            true_spans.append([rowlist[i][\"interval_start\"][n],rowlist[i][\"interval_end\"][n].astype(int)])\n",
    "\n",
    "        false_clumps = []\n",
    "\n",
    "        for span in cat[i+1]:        \n",
    "\n",
    "            if span in true_spans:\n",
    "                continue\n",
    "\n",
    "            else:\n",
    "                true_span_arr = np.asarray(true_spans)\n",
    "\n",
    "                sp_st = span[0]\n",
    "                sp_end = span[1]\n",
    "\n",
    "                n = np.where(sp_st == true_span_arr[:,0])[0]\n",
    "                p = 0\n",
    "\n",
    "                while sp_end >= true_span_arr[n+p,1]:\n",
    "\n",
    "                    false_clumps.append([int(true_span_arr[n+p,0]),int(true_span_arr[n+p,1])])\n",
    "                    p+=1\n",
    "\n",
    "                    if (n+p)>= len(true_span_arr[:,1]):\n",
    "                        break\n",
    "\n",
    "                false_merge[i+1] = false_clumps"
   ]
  },
  {
   "cell_type": "code",
   "execution_count": 145,
   "metadata": {},
   "outputs": [
    {
     "data": {
      "text/plain": [
       "{1: [[881, 892], [892, 901]], 2: [[442, 881], [881, 929]]}"
      ]
     },
     "execution_count": 145,
     "metadata": {},
     "output_type": "execute_result"
    }
   ],
   "source": [
    "false_merge"
   ]
  },
  {
   "cell_type": "code",
   "execution_count": 115,
   "metadata": {},
   "outputs": [],
   "source": [
    "true_spans = []\n",
    "for n in range(len(rowlist[i-1])):\n",
    "    true_spans.append([rowlist[i-1][\"interval_start\"][n],rowlist[i-1][\"interval_end\"][n].astype(int)])"
   ]
  },
  {
   "cell_type": "code",
   "execution_count": 120,
   "metadata": {},
   "outputs": [
    {
     "data": {
      "text/plain": [
       "array([ 160,  178,  344,  390,  442,  881,  934,  971, 1102, 1148, 1197,\n",
       "       1242, 1467, 1548, 1745])"
      ]
     },
     "execution_count": 120,
     "metadata": {},
     "output_type": "execute_result"
    }
   ],
   "source": [
    "true_span_arr = np.asarray(true_spans)\n",
    "\n",
    "true_span_arr[:,0]"
   ]
  },
  {
   "cell_type": "code",
   "execution_count": null,
   "metadata": {},
   "outputs": [],
   "source": []
  }
 ],
 "metadata": {
  "kernelspec": {
   "display_name": "Python 3",
   "language": "python",
   "name": "python3"
  },
  "language_info": {
   "codemirror_mode": {
    "name": "ipython",
    "version": 3
   },
   "file_extension": ".py",
   "mimetype": "text/x-python",
   "name": "python",
   "nbconvert_exporter": "python",
   "pygments_lexer": "ipython3",
   "version": "3.6.4"
  }
 },
 "nbformat": 4,
 "nbformat_minor": 2
}
