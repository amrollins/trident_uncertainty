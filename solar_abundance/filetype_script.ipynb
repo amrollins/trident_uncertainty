{
 "cells": [
  {
   "cell_type": "markdown",
   "metadata": {},
   "source": [
    "> ## **Filetype Dictionaries**"
   ]
  },
  {
   "cell_type": "code",
   "execution_count": null,
   "metadata": {},
   "outputs": [],
   "source": [
    "csv = {'sep': None, 'delimiter': None, 'header':, None, 'names': None, 'skiprows': None, \n",
    "                   'index_col': None, 'usecols': None, 'squeeze': None, 'prefix': None, \n",
    "                    'mangle_dupe_cols': None, 'dtype': None, 'engine': None, 'converters': None, \n",
    "                   'true_values': None, 'false_values': None, 'skipinitialspace': None, 'skiprows': None, \n",
    "                   'skipfooter': None, 'nrows': None, 'na_values': None, 'keep_default_na': None, \n",
    "                    'na_filter': None}\n",
    "fwf = {'colspecs': None, 'widths': None, 'infer_rows': None, }\n",
    "orc = {'columns': None}\n",
    "json = {'orient': None, 'typ': None, 'dtype': None, 'convert_axes': None, 'convert_dates': None, \n",
    "       'keep_default_dates': None, 'numpy': None, 'precise_float': None, 'date_unit': None, 'encoding': None,\n",
    "       'lines': None, 'chunksize': None, 'compression': None, 'nrows': None, 'storage_options': None}"
   ]
  },
  {
   "cell_type": "markdown",
   "metadata": {},
   "source": [
    "> ## **Function**"
   ]
  },
  {
   "cell_type": "code",
   "execution_count": 1,
   "metadata": {},
   "outputs": [],
   "source": [
    "\"\"\"\n",
    "csv: args through na_filter\n",
    "fwf: all args\n",
    "orc: all args\n",
    "json: args through encoding\n",
    "\"\"\"\n",
    "def filetpye(filename, file_type='csv', *args, **kwargs):\n",
    "    import pandas as pd\n",
    "    arg = kwargs.get('arg', None)\n",
    "#     names = kwargs.get('names', None)\n",
    "    Args = {'csv': csv, 'fwf': fwf, 'orc': orc, 'json': None}\n",
    "    if file_type == 'csv' or file_type == 'txt':\n",
    "        use = Args['csv']\n",
    "        if arg == None:\n",
    "            data = pd.read_csv(filename)\n",
    "        if arg is not None:\n",
    "            keys = use.keys()\n",
    "            for key in arg.keys():\n",
    "                if key in use.keys():\n",
    "                    use[key] = arg[key]\n",
    "            data = pd.read_csv(filename, use['sep'], use['delimiter'], use['header'], use['names'], \n",
    "                               use['skiprows'], use['index_col'], use['usecols'], use['squeeze'], \n",
    "                               use['prefix'], use['mangle_dupe_cols'], use['dtype'], use['engine'], \n",
    "                               use['converters'], use['true_values'], use['false_values'], use['skipinitialspace'], \n",
    "                               use['skiprows'], use['skipfooter'], use['nrows'], use['na_values'], \n",
    "                               use['keep_default_na'], use['na_filter'])\n",
    "    if file_type == 'fwf':\n",
    "        use = Args['fwf']\n",
    "        if arg == None:\n",
    "            data = pd.read_fwf(filename)\n",
    "        if arg is not None:\n",
    "            keys = use.keys()\n",
    "            for key in arg.keys():\n",
    "                if key in use.keys():\n",
    "                    use[key] = arg[key]\n",
    "            data = pd.read_fwf(filename, use['colspecs'], use['widths'], use['infer_rows'])\n",
    "    if file_type == 'orc':\n",
    "        use = Args['orc']\n",
    "        if arg == None:\n",
    "            data = pd.read_orc(filename)\n",
    "        if arg is not None:\n",
    "            keys = use.keys()\n",
    "            for key in arg.keys():\n",
    "                if key in use.keys():\n",
    "                    use[key] = arg[key]\n",
    "            data = pd.read_orc(filename, use['columns'])\n",
    "    if file_type == 'json':\n",
    "        use = Args['json']\n",
    "        if arg == None:\n",
    "            data = pd.read_json(filename)\n",
    "        if arg is not None:\n",
    "            keys = use.keys()\n",
    "            for key in arg.keys():\n",
    "                if key in use.keys():\n",
    "                    use[key] = arg[key]\n",
    "            data = pd.read_json(filename, use['orient'], use['typ'], use['dtype'], use['convert_axes'], \n",
    "                               use['convert_dates'], use['keep_default_dates'], use['numpy'],\n",
    "                                use['precise_float'], use['date_unit'], use['encoding'])\n",
    "    \n",
    "            \n",
    "    return data"
   ]
  },
  {
   "cell_type": "markdown",
   "metadata": {},
   "source": [
    "> ## **Test**"
   ]
  },
  {
   "cell_type": "code",
   "execution_count": null,
   "metadata": {},
   "outputs": [],
   "source": [
    "filename = 'addresses.csv'\n",
    "name_list = ['i', 'am', 'real', 'bad', 'at', 'words']\n",
    "dic = {'delimiter': ',', 'skiprows': 1}\n",
    "data = filetpye(filename, arg = dic)"
   ]
  },
  {
   "cell_type": "code",
   "execution_count": null,
   "metadata": {},
   "outputs": [],
   "source": []
  }
 ],
 "metadata": {
  "kernelspec": {
   "display_name": "Python 3",
   "language": "python",
   "name": "python3"
  },
  "language_info": {
   "codemirror_mode": {
    "name": "ipython",
    "version": 3
   },
   "file_extension": ".py",
   "mimetype": "text/x-python",
   "name": "python",
   "nbconvert_exporter": "python",
   "pygments_lexer": "ipython3",
   "version": "3.8.3"
  }
 },
 "nbformat": 4,
 "nbformat_minor": 4
}
