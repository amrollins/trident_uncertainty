{
 "cells": [
  {
   "cell_type": "code",
   "execution_count": 1,
   "id": "d776e3c9-9ac1-4e01-b461-97fd721dc38b",
   "metadata": {},
   "outputs": [],
   "source": [
    "import collections\n",
    "import pandas as pd\n",
    "import numpy as np\n",
    "import matplotlib.pyplot as plt\n",
    "%matplotlib inline"
   ]
  },
  {
   "cell_type": "code",
   "execution_count": 2,
   "id": "30930577-6ee3-476f-a361-ccda10cc8fae",
   "metadata": {},
   "outputs": [],
   "source": [
    "data = {}\n",
    "for i in range(25):\n",
    "    data[f'df{i}'] = pd.read_csv(f'~/git_env/research/oshea/trident_modifications/testing_mods/SolAb/test_sal/abundance_test3/data/data_row{i}_.csv', delim_whitespace=True)"
   ]
  },
  {
   "cell_type": "code",
   "execution_count": 3,
   "id": "1fba9e0f-e39d-4f0d-9e26-72d026191e03",
   "metadata": {},
   "outputs": [],
   "source": [
    "df1 = data['df0']\n",
    "\n",
    "def what_ions(df, ion_list, ray_index):\n",
    "    \"\"\"\n",
    "    determines what ions are returned in handy dandy dataframe from salsa \n",
    "    \n",
    "    :ion_list: list of ions initially passed to salsa\n",
    "    \n",
    "    :ray: lightray index from salsa dataframe\n",
    "    \"\"\"\n",
    "    names = [i for i in ion_list if i in df['name'].tolist() and i in ray_index['name'].tolist()]\n",
    "\n",
    "    return names\n",
    "\n",
    "names = what_ions(df = df1, ion_list = ['Ne VIII', 'Mg X', 'O VI', 'S IV', 'Si III', 'C II', 'N I'], ray_index = df1[df1['lightray_index'] == 62])\n"
   ]
  },
  {
   "cell_type": "code",
   "execution_count": 4,
   "id": "b7b6f781-7bd0-4f37-bf9c-1a8e1b8b9fee",
   "metadata": {},
   "outputs": [],
   "source": [
    "def pick_intervals(file_dictionary, lightray):\n",
    "    \n",
    "    master_df = pd.DataFrame()\n",
    "    \n",
    "    for df in file_dictionary:\n",
    "        obj = file_dictionary[df]\n",
    "        master_df = master_df.append(obj[obj['lightray_index'] == lightray])\n",
    "        \n",
    "    master_df.reset_index(inplace=True)\n",
    "    \n",
    "    index_list = []\n",
    "    \n",
    "    for index in range(len(master_df)):\n",
    "        \n",
    "        magic_start = master_df['interval_start'][index]\n",
    "        magic_end = master_df['interval_end'][index]\n",
    "\n",
    "        if index == 0:\n",
    "            index_list.append([magic_start, magic_end])\n",
    "        elif [magic_start, magic_end] in index_list:\n",
    "            pass\n",
    "        else:\n",
    "            \n",
    "            count = 0\n",
    "\n",
    "            for x in range(len(index_list)):\n",
    "\n",
    "                if [magic_start, magic_end] in index_list:\n",
    "                    pass\n",
    "                \n",
    "                elif index_list[x][0] == magic_start:\n",
    "                    if magic_end > index_list[x][1]:\n",
    "                        index_list[x][1] = magic_end\n",
    "                    else:\n",
    "                        count += 1\n",
    "\n",
    "                elif index_list[x][1] == magic_end:\n",
    "                    if magic_start < index_list[x][0]:\n",
    "                        index_list[x][0] = magic_start\n",
    "                    else:\n",
    "                        count += 1\n",
    "  \n",
    "            if [magic_start, magic_end] not in index_list and count == 0:\n",
    "                index_list.append([magic_start, magic_end])\n",
    "            \n",
    "    return master_df, index_list"
   ]
  },
  {
   "cell_type": "code",
   "execution_count": 5,
   "id": "f858a0a8-1fda-4d5d-b054-5cf9d034d328",
   "metadata": {},
   "outputs": [
    {
     "data": {
      "text/plain": [
       "[[102, 132.0],\n",
       " [178, 215.0],\n",
       " [373, 384.0],\n",
       " [351, 365.0],\n",
       " [215, 219.0],\n",
       " [232, 357.0],\n",
       " [258, 283.0],\n",
       " [284, 357.0],\n",
       " [357, 365.0],\n",
       " [234, 264.0],\n",
       " [266, 270.0],\n",
       " [273, 276.0],\n",
       " [277, 279.0]]"
      ]
     },
     "execution_count": 5,
     "metadata": {},
     "output_type": "execute_result"
    }
   ],
   "source": [
    "master_df, index_list = pick_intervals(data, 62)\n",
    "index_list"
   ]
  },
  {
   "cell_type": "code",
   "execution_count": 6,
   "id": "937b0254-3b7a-4146-8a70-21460f5fda80",
   "metadata": {},
   "outputs": [
    {
     "name": "stdout",
     "output_type": "stream",
     "text": [
      "interval: [102, 132.0], Counter({'O VI': 25})\n",
      "df length = 25\n"
     ]
    },
    {
     "ename": "NameError",
     "evalue": "name 'hist_plot' is not defined",
     "output_type": "error",
     "traceback": [
      "\u001b[0;31m---------------------------------------------------------------------------\u001b[0m",
      "\u001b[0;31mNameError\u001b[0m                                 Traceback (most recent call last)",
      "\u001b[0;32m<ipython-input-6-46b75a3675df>\u001b[0m in \u001b[0;36m<module>\u001b[0;34m\u001b[0m\n\u001b[1;32m      8\u001b[0m     \u001b[0mdf\u001b[0m\u001b[0;34m.\u001b[0m\u001b[0mreset_index\u001b[0m\u001b[0;34m(\u001b[0m\u001b[0minplace\u001b[0m\u001b[0;34m=\u001b[0m\u001b[0;32mTrue\u001b[0m\u001b[0;34m)\u001b[0m\u001b[0;34m\u001b[0m\u001b[0;34m\u001b[0m\u001b[0m\n\u001b[1;32m      9\u001b[0m     \u001b[0mplt\u001b[0m\u001b[0;34m.\u001b[0m\u001b[0mfigure\u001b[0m\u001b[0;34m(\u001b[0m\u001b[0;34m)\u001b[0m\u001b[0;34m\u001b[0m\u001b[0;34m\u001b[0m\u001b[0m\n\u001b[0;32m---> 10\u001b[0;31m     \u001b[0mhist_plot\u001b[0m\u001b[0;34m(\u001b[0m\u001b[0mdf\u001b[0m\u001b[0;34m,\u001b[0m \u001b[0;34m'col_dens'\u001b[0m\u001b[0;34m)\u001b[0m\u001b[0;34m\u001b[0m\u001b[0;34m\u001b[0m\u001b[0m\n\u001b[0m\u001b[1;32m     11\u001b[0m     \u001b[0mplt\u001b[0m\u001b[0;34m.\u001b[0m\u001b[0mshow\u001b[0m\u001b[0;34m(\u001b[0m\u001b[0;34m)\u001b[0m\u001b[0;34m\u001b[0m\u001b[0;34m\u001b[0m\u001b[0m\n\u001b[1;32m     12\u001b[0m \u001b[0;34m\u001b[0m\u001b[0m\n",
      "\u001b[0;31mNameError\u001b[0m: name 'hist_plot' is not defined"
     ]
    },
    {
     "data": {
      "text/plain": [
       "<Figure size 432x288 with 0 Axes>"
      ]
     },
     "metadata": {},
     "output_type": "display_data"
    }
   ],
   "source": [
    "for interval in index_list:\n",
    "    df = master_df[(master_df['interval_start'] >= interval[0]) & (master_df['interval_end'] <= interval[1])]\n",
    "    name_list=[]\n",
    "    for name in df['name']:\n",
    "        name_list.append(name)\n",
    "    print(f\"interval: {interval}, {collections.Counter(name_list)}\")\n",
    "    print(f\"df length = {len(df)}\")\n",
    "    df.reset_index(inplace=True)\n",
    "    plt.figure()\n",
    "    hist_plot(df, 'col_dens')\n",
    "    plt.show()\n",
    "    "
   ]
  },
  {
   "cell_type": "code",
   "execution_count": null,
   "id": "e1b5fd51-4025-40b2-9b96-d6b40e84bfec",
   "metadata": {},
   "outputs": [],
   "source": [
    "test_df = master_df[(master_df['interval_start'] >= 100) & (master_df['interval_end'] <= 150)]\n",
    "name_list = []\n",
    "for name in test_df['name']:\n",
    "    name_list.append(name)\n",
    "\n",
    "print(collections.Counter(name_list))\n",
    "test_df.reset_index(inplace=True)\n",
    "\n",
    "test_df"
   ]
  },
  {
   "cell_type": "code",
   "execution_count": null,
   "id": "74a32ac4-ef07-4b0f-b19c-a536641c19d1",
   "metadata": {},
   "outputs": [],
   "source": [
    "def hist_plot(absorber_df, thing_we_care_about, xleft=13.0, xright=13.6, lims=False):\n",
    "    \n",
    "    dic = {}\n",
    "    for index in range(len(absorber_df)):\n",
    "        if index == 0:\n",
    "            dic[f\"{absorber_df['name'][index]}\"] = []\n",
    "        else:\n",
    "            if absorber_df['name'][index] == absorber_df['name'][index-1]:\n",
    "                pass\n",
    "            else:\n",
    "                dic[f\"{absorber_df['name'][index]}\"] = []\n",
    "                \n",
    "    for ion in dic:\n",
    "        for index in range(len(absorber_df)):\n",
    "            if absorber_df['name'][index] == ion:\n",
    "                dic[ion].append(absorber_df[thing_we_care_about][index])\n",
    "#         print(dic[ion])\n",
    "        plt.hist(dic[ion], label=ion)\n",
    "        if lims is not False:\n",
    "            plt.xlim(xleft, xright)\n",
    "    plt.legend()\n",
    "    \n",
    "    return dic"
   ]
  },
  {
   "cell_type": "code",
   "execution_count": null,
   "id": "cc249320-a129-477d-872b-5402053be5e8",
   "metadata": {},
   "outputs": [],
   "source": [
    "dic=hist_plot(test_df, 'col_dens')"
   ]
  },
  {
   "cell_type": "code",
   "execution_count": null,
   "id": "b6cef566-c9d2-4ddd-8bbf-265ec594b305",
   "metadata": {},
   "outputs": [],
   "source": [
    "exab_df"
   ]
  },
  {
   "cell_type": "code",
   "execution_count": null,
   "id": "0e36488d-fd5e-4411-ab5e-fe2ca287f3a4",
   "metadata": {},
   "outputs": [],
   "source": []
  }
 ],
 "metadata": {
  "kernelspec": {
   "display_name": "Python 3",
   "language": "python",
   "name": "python3"
  },
  "language_info": {
   "codemirror_mode": {
    "name": "ipython",
    "version": 3
   },
   "file_extension": ".py",
   "mimetype": "text/x-python",
   "name": "python",
   "nbconvert_exporter": "python",
   "pygments_lexer": "ipython3",
   "version": "3.7.9"
  }
 },
 "nbformat": 4,
 "nbformat_minor": 5
}
